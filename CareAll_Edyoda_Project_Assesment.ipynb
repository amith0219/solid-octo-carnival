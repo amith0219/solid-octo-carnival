{
 "cells": [
  {
   "cell_type": "code",
   "execution_count": null,
   "metadata": {},
   "outputs": [],
   "source": [
    "class User:\n",
    "    elder=[]\n",
    "    young={}\n",
    "    accept={}\n",
    "    associate={}\n",
    "    salarydict={}\n",
    "    relationdict={}\n",
    "    assodict={}\n",
    "    MAX=4\n",
    "    \n",
    "    def __init__(self,idnum=None,name=None,age=None,sex=None,utype=None):\n",
    "        self.idnum = idnum\n",
    "        self.name = name\n",
    "        self.age = age\n",
    "        self.sex = sex\n",
    "        self.utype = utype\n",
    "        \n",
    "    def review(self,about,ratings,comments):\n",
    "        self.by=self.name\n",
    "        self.about=about.name\n",
    "        self.ratings = ratings\n",
    "        self.comments = comments\n",
    "        print(\"Review on: \",self.about)\n",
    "        print(\"Ratings on scale of 10: \",self.ratings)\n",
    "        print(\"Comments: {}\\n\".format(self.comments))\n",
    "        \n",
    "    def information():\n",
    "        print(\"Below shows who is taking care of older couple\")\n",
    "        print(\"**************************************************************************\")\n",
    "        for i,j in User.assodict.items():\n",
    "            print(\" >>> {} is taking care of {} :  ({},{})\".format(j,i,j,i))\n",
    "            \n",
    "        print(\"\\n Below shows who all a young chap is currently taking care\")\n",
    "        print(\"**************************************************************************\")\n",
    "        for i,j in User.relationdict.items():\n",
    "            print(\" >>> {} is currently taking care of {}\".format(i,j))\n",
    "    "
   ]
  },
  {
   "cell_type": "code",
   "execution_count": null,
   "metadata": {},
   "outputs": [],
   "source": [
    "class Elder(User):\n",
    "    \n",
    "    def __init__(self,idnum=None,name=None,age=None,sex=None):\n",
    "        self.utype=1\n",
    "        User.__init__(self,idnum,name,age,sex,self.utype)\n",
    "        self.jobstatus=False\n",
    "        \n",
    "    def carecreate(self,payment,desc=None,duration=1):\n",
    "        if not self.jobstatus:\n",
    "            self.desc = desc\n",
    "            self.payment = payment\n",
    "            self.duration=duration\n",
    "            self.jobstatus=True\n",
    "            print(\"{}\\'s care request is now ACTIVE\".format(self.name))\n",
    "            User.elder.append(self)\n",
    "        else:\n",
    "            print(\"{} already have a ACTIVE Care Request!\".format(self.name))\n",
    "        \n",
    "    def application(self):\n",
    "        print(\"Applicant\\'s for {}\\'s are: \".format(self.name))\n",
    "        optioncounter = 0\n",
    "        for i,j in User.young.items():\n",
    "            if i is self:\n",
    "                for k,v in enumerate(j):\n",
    "                    print(k+1,v.name)\n",
    "                    \n",
    "    \n",
    "    def careaccept(self,option):\n",
    "        if User.accept.get(User.young[self][option-1]) == None:\n",
    "            User.accept[User.young[self][option-1]]=[]\n",
    "            User.accept[User.young[self][option-1]].append(self)\n",
    "            User.relationdict[User.young[self][option-1].name]=[]\n",
    "            User.relationdict[User.young[self][option-1].name].append(self.name)\n",
    "            \n",
    "            if User.associate.get(self) is None:\n",
    "                User.associate[self]=User.young[self][option-1]\n",
    "                User.assodict[self.name]=User.young[self][option-1].name\n",
    "                print(\"{} accepted {}\".format(self.name,User.associate[self].name))\n",
    "                \n",
    "                if User.salarydict.get(User.young[self][option-1]) == None:\n",
    "                    User.salarydict[User.young[self][option-1]]=[]\n",
    "                    User.salarydict[User.young[self][option-1]].append(self.payment)\n",
    "                else:\n",
    "                    User.salarydict[User.young[self][option-1]].append(self.payment)\n",
    "                    \n",
    "            else:\n",
    "                print(\"Unable to Accept new applicant. Your are with {}\".format(User.associate[self].name))\n",
    "                del User.accept[User.young[self][option-1]]\n",
    "                del User.relationdict[User.young[self][option-1].name]\n",
    "                \n",
    "            \n",
    "        else:\n",
    "            \n",
    "            if(len(User.accept[User.young[self][option-1]])>=User.MAX):\n",
    "                print(\"{}\\'s Maximum Limit is Reached!\".format(User.young[self][option-1].name))\n",
    "                \n",
    "            else:\n",
    "                User.accept[User.young[self][option-1]].append(self)\n",
    "                User.relationdict[User.young[self][option-1].name].append(self.name)\n",
    "                \n",
    "                if User.associate.get(self) is None:\n",
    "                    User.associate[self]=User.young[self][option-1]\n",
    "                    \n",
    "                    User.assodict[self.name]=User.young[self][option-1].name\n",
    "                    print(\"{} accepted {}\".format(self.name,User.associate[self].name))\n",
    "                    \n",
    "                    if User.salarydict.get(User.young[self][option-1]) == None:\n",
    "                        User.salarydict[User.young[self][option-1]]=[]\n",
    "                        User.salarydict[User.young[self][option-1]].append(self.payment)\n",
    "                    else:\n",
    "                        User.salarydict[User.young[self][option-1]].append(self.payment)\n",
    "                        \n",
    "                else:\n",
    "                    print(\"Unable to Accept new applicant. Your are with {}\".format(User.associate[self].name))\n",
    "                    \n",
    "        \n",
    "    def closerequest(self):\n",
    "        self.jobstatus=False"
   ]
  },
  {
   "cell_type": "code",
   "execution_count": null,
   "metadata": {},
   "outputs": [],
   "source": [
    "class Young(User):\n",
    "    \n",
    "    def __init__(self,idnum=None,name=None,age=None,sex=None):\n",
    "        self.utype=2\n",
    "        self.applied=[]\n",
    "        User.__init__(self,idnum,name,age,sex,self.utype)\n",
    "        \n",
    "    def jobview(self):\n",
    "        print(\"Caretaker options for {}\".format(self.name))\n",
    "        for i,x in enumerate(User.elder):\n",
    "            self.joboption=i+1\n",
    "            print(self.joboption,x.name,x.payment)\n",
    "\n",
    "            \n",
    "    def apply(self,option):\n",
    "        \n",
    "        if User.young.get(User.elder[option-1]) == None:\n",
    "            User.young[User.elder[option-1]]=[]\n",
    "            User.young[User.elder[option-1]].append(self)\n",
    "        else:\n",
    "            User.young[User.elder[option-1]].append(self)\n",
    "        print(\"{} Applied for {}\".format(self.name,User.elder[option-1].name))\n",
    "    \n",
    "    def salary(self):\n",
    "        sum=0\n",
    "        for i in User.salarydict[self]:\n",
    "            sum=sum+i\n",
    "        print(sum)"
   ]
  },
  {
   "cell_type": "code",
   "execution_count": null,
   "metadata": {},
   "outputs": [],
   "source": []
  },
  {
   "cell_type": "code",
   "execution_count": null,
   "metadata": {},
   "outputs": [],
   "source": []
  },
  {
   "cell_type": "code",
   "execution_count": null,
   "metadata": {},
   "outputs": [],
   "source": []
  },
  {
   "cell_type": "code",
   "execution_count": null,
   "metadata": {},
   "outputs": [],
   "source": []
  },
  {
   "cell_type": "code",
   "execution_count": null,
   "metadata": {},
   "outputs": [],
   "source": [
    "eld1 = Elder(101,\"Sanjay\",63,\"Male\")\n",
    "eld2 = Elder(102,\"Vanita\",68,\"Female\")\n",
    "eld3 = Elder(103,\"Shankar\",58,\"Male\")\n",
    "eld4 = Elder(104,\"Lalitha\",70,\"Female\")\n",
    "eld5 = Elder(105,\"Rajani\",73,\"Male\")\n",
    "\n",
    "\n",
    "yng1 = Young(201,\"Atharv\",22,\"Male\")\n",
    "yng2 = Young(202,\"Bhoomi\",23,\"Female\")\n",
    "yng3 = Young(203,\"Yadav\",24,\"Male\")\n",
    "yng4 = Young(204,\"Neema\",23,\"Female\")\n",
    "yng5 = Young(205,\"Arjun\",21,\"Male\")"
   ]
  },
  {
   "cell_type": "code",
   "execution_count": null,
   "metadata": {},
   "outputs": [],
   "source": []
  },
  {
   "cell_type": "code",
   "execution_count": null,
   "metadata": {},
   "outputs": [],
   "source": [
    "#yng1 = Young(201,\"Atharv\",22,\"Male\")\n",
    "#yng2 = Young(202,\"Bhoomi\",23,\"Female\")\n",
    "#yng3 = Young(203,\"Yadav\",24,\"Male\")\n",
    "#yng4 = Young(204,\"Neema\",23,\"Female\")\n",
    "#yng5 = Young(205,\"Arjun\",21,\"Male\")"
   ]
  },
  {
   "cell_type": "code",
   "execution_count": null,
   "metadata": {},
   "outputs": [],
   "source": [
    "eld1.carecreate(500)\n",
    "eld2.carecreate(1500)\n",
    "eld3.carecreate(800)\n",
    "eld4.carecreate(2000)\n",
    "eld5.carecreate(6500)"
   ]
  },
  {
   "cell_type": "code",
   "execution_count": null,
   "metadata": {},
   "outputs": [],
   "source": [
    "yng1.jobview()\n",
    "yng2.jobview()\n",
    "yng3.jobview()\n",
    "yng4.jobview()\n",
    "yng5.jobview()"
   ]
  },
  {
   "cell_type": "code",
   "execution_count": null,
   "metadata": {},
   "outputs": [],
   "source": [
    "yng2.apply(5)\n",
    "yng2.apply(2)\n",
    "yng2.apply(1)\n",
    "yng2.apply(3)\n",
    "yng2.apply(4)\n",
    "yng1.apply(5)\n",
    "yng3.apply(5)\n",
    "yng4.apply(2)\n",
    "yng5.apply(2)\n",
    "yng4.apply(3)\n",
    "yng5.apply(3)\n",
    "yng1.apply(4)\n",
    "yng3.apply(4)"
   ]
  },
  {
   "cell_type": "code",
   "execution_count": null,
   "metadata": {},
   "outputs": [],
   "source": []
  },
  {
   "cell_type": "code",
   "execution_count": null,
   "metadata": {},
   "outputs": [],
   "source": [
    "eld1.application()\n",
    "eld2.application()\n",
    "eld3.application()\n",
    "eld4.application()\n",
    "eld5.application()"
   ]
  },
  {
   "cell_type": "code",
   "execution_count": null,
   "metadata": {},
   "outputs": [],
   "source": [
    "eld1.careaccept(1)\n",
    "eld2.careaccept(1)\n",
    "eld3.careaccept(1)\n",
    "eld4.careaccept(1)\n",
    "eld5.careaccept(1)\n",
    "eld2.careaccept(2)\n",
    "eld5.careaccept(2)"
   ]
  },
  {
   "cell_type": "code",
   "execution_count": null,
   "metadata": {},
   "outputs": [],
   "source": [
    "yng1.salary()\n",
    "yng2.salary()"
   ]
  },
  {
   "cell_type": "code",
   "execution_count": null,
   "metadata": {},
   "outputs": [],
   "source": [
    "eld3.review(yng2,8,\"She is very Kind & caring.\")\n",
    "yng1.review(eld5,10,\"A very happy person to be with\")"
   ]
  },
  {
   "cell_type": "code",
   "execution_count": null,
   "metadata": {},
   "outputs": [],
   "source": []
  },
  {
   "cell_type": "code",
   "execution_count": null,
   "metadata": {},
   "outputs": [],
   "source": [
    "User.information()"
   ]
  },
  {
   "cell_type": "code",
   "execution_count": null,
   "metadata": {},
   "outputs": [],
   "source": []
  }
 ],
 "metadata": {
  "kernelspec": {
   "display_name": "Python 3",
   "language": "python",
   "name": "python3"
  },
  "language_info": {
   "codemirror_mode": {
    "name": "ipython",
    "version": 3
   },
   "file_extension": ".py",
   "mimetype": "text/x-python",
   "name": "python",
   "nbconvert_exporter": "python",
   "pygments_lexer": "ipython3",
   "version": "3.7.6"
  }
 },
 "nbformat": 4,
 "nbformat_minor": 4
}
